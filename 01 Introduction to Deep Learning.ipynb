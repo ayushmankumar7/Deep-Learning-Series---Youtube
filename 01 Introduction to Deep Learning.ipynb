{
 "cells": [
  {
   "cell_type": "markdown",
   "id": "4832c83c",
   "metadata": {},
   "source": [
    "# Linear Regression"
   ]
  },
  {
   "cell_type": "markdown",
   "id": "c09c20fc",
   "metadata": {},
   "source": [
    "## Import necessary Libraries"
   ]
  },
  {
   "cell_type": "code",
   "execution_count": 586,
   "id": "67ff1649",
   "metadata": {},
   "outputs": [],
   "source": [
    "import numpy as np \n",
    "import matplotlib.pyplot as plt\n",
    "import torch "
   ]
  },
  {
   "cell_type": "code",
   "execution_count": 587,
   "id": "b62e17b8",
   "metadata": {},
   "outputs": [],
   "source": [
    "X = np.arange(0, 20)\n",
    "y = X "
   ]
  },
  {
   "cell_type": "code",
   "execution_count": 588,
   "id": "ea68a0e8",
   "metadata": {},
   "outputs": [
    {
     "data": {
      "text/plain": [
       "[<matplotlib.lines.Line2D at 0x245db0d82e0>]"
      ]
     },
     "execution_count": 588,
     "metadata": {},
     "output_type": "execute_result"
    },
    {
     "data": {
      "image/png": "[encoded data removed]",
      "text/plain": [
       "<Figure size 432x288 with 1 Axes>"
      ]
     },
     "metadata": {
      "needs_background": "light"
     },
     "output_type": "display_data"
    }
   ],
   "source": [
    "plt.plot(X)"
   ]
  },
  {
   "cell_type": "code",
   "execution_count": 589,
   "id": "3ea92b29",
   "metadata": {},
   "outputs": [],
   "source": [
    "X = [np.random.normal() * 2.0 + float(i) for i in X]\n",
    "y = [float(i) for i in y]"
   ]
  },
  {
   "cell_type": "code",
   "execution_count": 590,
   "id": "904b122a",
   "metadata": {},
   "outputs": [
    {
     "data": {
      "text/plain": [
       "<matplotlib.collections.PathCollection at 0x245db019c40>"
      ]
     },
     "execution_count": 590,
     "metadata": {},
     "output_type": "execute_result"
    },
    {
     "data": {
      "image/png": "[encoded data removed]",
      "text/plain": [
       "<Figure size 432x288 with 1 Axes>"
      ]
     },
     "metadata": {
      "needs_background": "light"
     },
     "output_type": "display_data"
    }
   ],
   "source": [
    "plt.scatter(X, [i for i in range(len(X))])"
   ]
  },
  {
   "cell_type": "code",
   "execution_count": 591,
   "id": "b2de79e3",
   "metadata": {},
   "outputs": [
    {
     "data": {
      "text/plain": [
       "[<matplotlib.lines.Line2D at 0x245daf5ee80>]"
      ]
     },
     "execution_count": 591,
     "metadata": {},
     "output_type": "execute_result"
    },
    {
     "data": {
      "image/png": "[encoded data removed]",
      "text/plain": [
       "<Figure size 432x288 with 1 Axes>"
      ]
     },
     "metadata": {
      "needs_background": "light"
     },
     "output_type": "display_data"
    }
   ],
   "source": [
    "plt.scatter(X, [i for i in range(len(X))])\n",
    "plt.plot(y)"
   ]
  },
  {
   "cell_type": "code",
   "execution_count": 592,
   "id": "741a18b0",
   "metadata": {},
   "outputs": [],
   "source": [
    "class SimpleNN(torch.nn.Module):\n",
    "    def __init__(self):\n",
    "        super(SimpleNN, self).__init__()\n",
    "        self.l1 = torch.nn.Linear(1, 1)\n",
    "        \n",
    "    def forward(self, x):\n",
    "        return self.l1(x)"
   ]
  },
  {
   "cell_type": "code",
   "execution_count": 593,
   "id": "da0ddfab",
   "metadata": {},
   "outputs": [],
   "source": [
    "nn = SimpleNN()"
   ]
  },
  {
   "cell_type": "code",
   "execution_count": 594,
   "id": "72c46124",
   "metadata": {},
   "outputs": [
    {
     "name": "stdout",
     "output_type": "stream",
     "text": [
      "before:  torch.Size([20]) torch.Size([20])\n",
      "After:  torch.Size([20, 1]) torch.Size([20, 1])\n"
     ]
    }
   ],
   "source": [
    "X_i = torch.tensor(X, requires_grad = True)\n",
    "y_i = torch.tensor(y, requires_grad = True)\n",
    "print(\"before: \", X_i.shape, y_i.shape)\n",
    "X = X_i.unsqueeze(1)\n",
    "y = y_i.unsqueeze(1)\n",
    "print(\"After: \", X.shape, y.shape)"
   ]
  },
  {
   "cell_type": "code",
   "execution_count": 595,
   "id": "1ddf003c",
   "metadata": {},
   "outputs": [
    {
     "name": "stdout",
     "output_type": "stream",
     "text": [
      "tensor([ 1.9835, -0.1997,  4.3345,  2.5917,  3.5675,  4.3959,  8.0996,  5.9667,\n",
      "         6.3899,  9.1160,  8.6700, 10.4417, 12.3615, 15.3459, 15.6994, 14.6120,\n",
      "        15.6302, 19.9797, 19.1430, 17.2785], requires_grad=True) tensor([[ 1.9835],\n",
      "        [-0.1997],\n",
      "        [ 4.3345],\n",
      "        [ 2.5917],\n",
      "        [ 3.5675],\n",
      "        [ 4.3959],\n",
      "        [ 8.0996],\n",
      "        [ 5.9667],\n",
      "        [ 6.3899],\n",
      "        [ 9.1160],\n",
      "        [ 8.6700],\n",
      "        [10.4417],\n",
      "        [12.3615],\n",
      "        [15.3459],\n",
      "        [15.6994],\n",
      "        [14.6120],\n",
      "        [15.6302],\n",
      "        [19.9797],\n",
      "        [19.1430],\n",
      "        [17.2785]], grad_fn=<UnsqueezeBackward0>)\n"
     ]
    }
   ],
   "source": [
    "print(X_i, X)"
   ]
  },
  {
   "cell_type": "code",
   "execution_count": 596,
   "id": "720828f2",
   "metadata": {},
   "outputs": [
    {
     "data": {
      "text/plain": [
       "<matplotlib.collections.PathCollection at 0x245db03dca0>"
      ]
     },
     "execution_count": 596,
     "metadata": {},
     "output_type": "execute_result"
    },
    {
     "data": {
      "image/png": "[encoded data removed]",
      "text/plain": [
       "<Figure size 432x288 with 1 Axes>"
      ]
     },
     "metadata": {
      "needs_background": "light"
     },
     "output_type": "display_data"
    }
   ],
   "source": [
    "out = nn(X)\n",
    "plt.scatter(out.detach().numpy(), [i for i in range(len(X))])"
   ]
  },
  {
   "cell_type": "code",
   "execution_count": 597,
   "id": "b877db9e",
   "metadata": {},
   "outputs": [
    {
     "data": {
      "image/png": "[encoded data removed]",
      "text/plain": [
       "<Figure size 432x288 with 1 Axes>"
      ]
     },
     "metadata": {
      "needs_background": "light"
     },
     "output_type": "display_data"
    }
   ],
   "source": [
    "import time\n",
    "from IPython import display \n",
    "for i in range(50):\n",
    "    plt.clf()\n",
    "    nn = SimpleNN()\n",
    "    out = nn(X)\n",
    "    plt.scatter(out.detach().numpy(), [i for i in range(len(X))])\n",
    "    display.display(plt.gcf())\n",
    "    display.clear_output(wait = True)\n",
    "    time.sleep(0.1)"
   ]
  },
  {
   "cell_type": "code",
   "execution_count": 598,
   "id": "68a74106",
   "metadata": {
    "scrolled": true
   },
   "outputs": [
    {
     "data": {
      "image/png": "[encoded data removed]",
      "text/plain": [
       "<Figure size 432x288 with 1 Axes>"
      ]
     },
     "metadata": {
      "needs_background": "light"
     },
     "output_type": "display_data"
    }
   ],
   "source": [
    "for i in range(50):\n",
    "    \n",
    "    nn = SimpleNN()\n",
    "    out = nn(X)\n",
    "    plt.scatter(out.detach().numpy(), [i for i in range(len(X))])\n",
    "    plt.plot()"
   ]
  },
  {
   "cell_type": "code",
   "execution_count": 599,
   "id": "15d8622f",
   "metadata": {},
   "outputs": [],
   "source": [
    "nn = SimpleNN()\n",
    "loss_fn = torch.nn.MSELoss()\n",
    "optimizer = torch.optim.SGD(nn.parameters(), lr=0.001, momentum = 0.9)"
   ]
  },
  {
   "cell_type": "code",
   "execution_count": 600,
   "id": "1ceb9046",
   "metadata": {},
   "outputs": [
    {
     "name": "stdout",
     "output_type": "stream",
     "text": [
      "2.2051424980163574\n",
      "2.1024250984191895\n",
      "2.001784563064575\n",
      "1.98720383644104\n",
      "2.0472412109375\n",
      "2.103762149810791\n",
      "2.0975165367126465\n",
      "2.0398337841033936\n",
      "1.9885566234588623\n",
      "1.9851062297821045\n",
      "2.018850326538086\n",
      "2.0468759536743164\n",
      "2.0401692390441895\n",
      "2.0080411434173584\n",
      "1.9821093082427979\n",
      "1.9824907779693604\n",
      "2.001162052154541\n",
      "2.0147788524627686\n",
      "2.009368658065796\n",
      "1.991584062576294\n",
      "1.9785493612289429\n",
      "1.9798568487167358\n",
      "1.9900182485580444\n",
      "1.9964468479156494\n",
      "1.9925493001937866\n",
      "1.9827377796173096\n",
      "1.976204514503479\n",
      "1.9774188995361328\n",
      "1.9828393459320068\n",
      "1.9857383966445923\n",
      "1.9830843210220337\n",
      "1.9776670932769775\n",
      "1.974379539489746\n",
      "1.9752404689788818\n",
      "1.978054404258728\n",
      "1.9792530536651611\n",
      "1.9774932861328125\n",
      "1.9744806289672852\n",
      "1.9727954864501953\n",
      "1.9733142852783203\n",
      "1.9747120141983032\n",
      "1.9751144647598267\n",
      "1.9739539623260498\n",
      "1.9722486734390259\n",
      "1.9713480472564697\n",
      "1.9716084003448486\n",
      "1.972247838973999\n",
      "1.9722915887832642\n",
      "1.9715162515640259\n",
      "1.9705188274383545\n",
      "1.9699987173080444\n",
      "1.9700860977172852\n",
      "1.9703261852264404\n",
      "1.9702173471450806\n",
      "1.969684362411499\n",
      "1.9690707921981812\n",
      "1.9687345027923584\n",
      "1.9687141180038452\n",
      "1.9687488079071045\n",
      "1.968583345413208\n",
      "1.9682003259658813\n",
      "1.967795729637146\n",
      "1.96755051612854\n",
      "1.9674676656723022\n",
      "1.9674009084701538\n",
      "1.9672209024429321\n",
      "1.9669309854507446\n",
      "1.9666404724121094\n",
      "1.9664415121078491\n",
      "1.9663255214691162\n",
      "1.9662120342254639\n",
      "1.9660346508026123\n",
      "1.9658033847808838\n",
      "1.9655787944793701\n",
      "1.9654048681259155\n",
      "1.9652740955352783\n",
      "1.9651412963867188\n",
      "1.9649738073349\n",
      "1.9647802114486694\n",
      "1.964593529701233\n",
      "1.9644365310668945\n",
      "1.9643014669418335\n",
      "1.96416437625885\n",
      "1.9640071392059326\n",
      "1.9638397693634033\n",
      "1.963678002357483\n",
      "1.9635331630706787\n",
      "1.9633992910385132\n",
      "1.9632635116577148\n",
      "1.9631195068359375\n",
      "1.9629690647125244\n",
      "1.9628244638442993\n",
      "1.9626893997192383\n",
      "1.9625599384307861\n",
      "1.9624302387237549\n",
      "1.9622962474822998\n",
      "1.962160348892212\n",
      "1.9620285034179688\n",
      "1.9619014263153076\n",
      "1.961778998374939\n",
      "1.9616565704345703\n",
      "1.961531400680542\n",
      "1.9614067077636719\n",
      "1.9612853527069092\n",
      "1.961167335510254\n",
      "1.9610509872436523\n",
      "1.9609358310699463\n",
      "1.960820198059082\n",
      "1.9607055187225342\n",
      "1.9605919122695923\n",
      "1.9604816436767578\n",
      "1.9603722095489502\n",
      "1.960264801979065\n",
      "1.960156798362732\n",
      "1.9600499868392944\n",
      "1.959944725036621\n",
      "1.9598414897918701\n",
      "1.9597396850585938\n",
      "1.959638237953186\n",
      "1.9595381021499634\n",
      "1.9594389200210571\n",
      "1.959341049194336\n",
      "1.959244966506958\n",
      "1.9591495990753174\n",
      "1.959054708480835\n",
      "1.9589611291885376\n",
      "1.9588693380355835\n",
      "1.9587774276733398\n",
      "1.95868718624115\n",
      "1.9585978984832764\n",
      "1.9585100412368774\n",
      "1.9584224224090576\n",
      "1.9583371877670288\n",
      "1.9582512378692627\n",
      "1.9581668376922607\n",
      "1.9580837488174438\n",
      "1.9580020904541016\n",
      "1.9579204320907593\n",
      "1.9578396081924438\n",
      "1.9577610492706299\n",
      "1.9576820135116577\n",
      "1.9576040506362915\n",
      "1.957527756690979\n",
      "1.9574514627456665\n",
      "1.95737624168396\n",
      "1.9573020935058594\n",
      "1.9572292566299438\n",
      "1.9571565389633179\n",
      "1.9570848941802979\n",
      "1.9570138454437256\n",
      "1.9569437503814697\n",
      "1.9568744897842407\n",
      "1.956805944442749\n",
      "1.9567384719848633\n",
      "1.956671953201294\n",
      "1.9566059112548828\n",
      "1.9565397500991821\n",
      "1.956475019454956\n",
      "1.9564117193222046\n",
      "1.9563487768173218\n",
      "1.9562861919403076\n",
      "1.9562238454818726\n",
      "1.9561634063720703\n",
      "1.9561030864715576\n",
      "1.9560434818267822\n",
      "1.9559844732284546\n",
      "1.9559259414672852\n",
      "1.955868124961853\n",
      "1.9558115005493164\n",
      "1.9557549953460693\n",
      "1.9556995630264282\n",
      "1.9556443691253662\n",
      "1.9555902481079102\n",
      "1.9555366039276123\n",
      "1.9554834365844727\n",
      "1.9554312229156494\n",
      "1.9553788900375366\n",
      "1.9553277492523193\n",
      "1.9552768468856812\n",
      "1.955227255821228\n",
      "1.9551763534545898\n",
      "1.9551284313201904\n",
      "1.955079436302185\n",
      "1.955031394958496\n",
      "1.9549843072891235\n",
      "1.9549369812011719\n",
      "1.9548906087875366\n",
      "1.9548454284667969\n",
      "1.954800009727478\n",
      "1.9547557830810547\n",
      "1.9547111988067627\n",
      "1.9546674489974976\n",
      "1.9546241760253906\n",
      "1.9545812606811523\n",
      "1.9545390605926514\n",
      "1.954498052597046\n",
      "1.9544565677642822\n",
      "1.9544153213500977\n",
      "1.95437490940094\n",
      "1.9543354511260986\n",
      "1.9542961120605469\n",
      "1.9542570114135742\n",
      "1.9542186260223389\n",
      "1.9541809558868408\n",
      "1.9541425704956055\n",
      "1.9541051387786865\n",
      "1.9540687799453735\n",
      "1.95403254032135\n",
      "1.9539968967437744\n",
      "1.9539607763290405\n",
      "1.9539263248443604\n",
      "1.953891396522522\n",
      "1.9538568258285522\n",
      "1.9538227319717407\n",
      "1.953789472579956\n",
      "1.9537560939788818\n",
      "1.9537235498428345\n",
      "1.9536911249160767\n",
      "1.9536588191986084\n",
      "1.953627347946167\n",
      "1.9535961151123047\n",
      "1.953565001487732\n",
      "1.953534483909607\n",
      "1.953503966331482\n",
      "1.9534740447998047\n",
      "1.953444480895996\n",
      "1.9534156322479248\n",
      "1.953386902809143\n",
      "1.9533579349517822\n",
      "1.9533298015594482\n",
      "1.953302025794983\n",
      "1.9532743692398071\n",
      "1.953247308731079\n",
      "1.9532201290130615\n",
      "1.953194260597229\n",
      "1.953167200088501\n",
      "1.953141450881958\n",
      "1.953115463256836\n",
      "1.9530894756317139\n",
      "1.9530649185180664\n",
      "1.9530398845672607\n",
      "1.9530153274536133\n",
      "1.952991247177124\n",
      "1.9529670476913452\n",
      "1.9529435634613037\n",
      "1.9529197216033936\n",
      "1.9528963565826416\n",
      "1.9528735876083374\n",
      "1.9528510570526123\n",
      "1.9528286457061768\n",
      "1.9528067111968994\n",
      "1.952784538269043\n",
      "1.9527628421783447\n",
      "1.952741265296936\n",
      "1.9527204036712646\n",
      "1.9526994228363037\n",
      "1.952678918838501\n",
      "1.9526584148406982\n",
      "1.9526382684707642\n",
      "1.9526180028915405\n",
      "1.9525983333587646\n",
      "1.952579140663147\n",
      "1.952559232711792\n",
      "1.952540397644043\n",
      "1.952521562576294\n",
      "1.9525026082992554\n",
      "1.9524837732315063\n",
      "1.952466607093811\n",
      "1.9524478912353516\n",
      "1.9524301290512085\n",
      "1.9524129629135132\n",
      "1.9523952007293701\n",
      "1.952378511428833\n",
      "1.9523611068725586\n",
      "1.952344298362732\n",
      "1.9523279666900635\n",
      "1.9523111581802368\n",
      "1.9522950649261475\n",
      "1.952278733253479\n",
      "1.9522628784179688\n",
      "1.9522472620010376\n",
      "1.952231764793396\n",
      "1.9522167444229126\n",
      "1.952201247215271\n",
      "1.9521856307983398\n",
      "1.9521719217300415\n",
      "1.9521567821502686\n",
      "1.952142357826233\n",
      "1.9521280527114868\n",
      "1.9521137475967407\n",
      "1.9520998001098633\n",
      "1.9520866870880127\n",
      "1.9520725011825562\n",
      "1.9520591497421265\n",
      "1.952045202255249\n",
      "1.9520318508148193\n",
      "1.9520187377929688\n",
      "1.9520063400268555\n",
      "1.951993703842163\n",
      "1.9519813060760498\n"
     ]
    }
   ],
   "source": [
    "for i in range(300):\n",
    "    out = nn(X)\n",
    "    \n",
    "    loss = loss_fn(out, y)\n",
    "    \n",
    "    optimizer.zero_grad()\n",
    "    loss.backward()\n",
    "    optimizer.step()    \n",
    "    print(loss.item())\n",
    "    "
   ]
  },
  {
   "cell_type": "code",
   "execution_count": 601,
   "id": "bcf517b4",
   "metadata": {},
   "outputs": [
    {
     "data": {
      "text/plain": [
       "[]"
      ]
     },
     "execution_count": 601,
     "metadata": {},
     "output_type": "execute_result"
    },
    {
     "data": {
      "image/png": "[encoded data removed]",
      "text/plain": [
       "<Figure size 432x288 with 1 Axes>"
      ]
     },
     "metadata": {
      "needs_background": "light"
     },
     "output_type": "display_data"
    }
   ],
   "source": [
    "plt.scatter(X.detach().numpy(), [i for i in range(len(X))])\n",
    "plt.plot(out.detach().numpy())\n",
    "plt.plot()"
   ]
  },
  {
   "cell_type": "code",
   "execution_count": null,
   "id": "2321037d",
   "metadata": {},
   "outputs": [],
   "source": []
  },
  {
   "cell_type": "code",
   "execution_count": null,
   "id": "54fcb7e0",
   "metadata": {},
   "outputs": [],
   "source": []
  },
  {
   "cell_type": "code",
   "execution_count": null,
   "id": "8e452062",
   "metadata": {},
   "outputs": [],
   "source": []
  },
  {
   "cell_type": "code",
   "execution_count": null,
   "id": "bfb1324b",
   "metadata": {},
   "outputs": [],
   "source": []
  }
 ],
 "metadata": {
  "kernelspec": {
   "display_name": "Python 3 (ipykernel)",
   "language": "python",
   "name": "python3"
  },
  "language_info": {
   "codemirror_mode": {
    "name": "ipython",
    "version": 3
   },
   "file_extension": ".py",
   "mimetype": "text/x-python",
   "name": "python",
   "nbconvert_exporter": "python",
   "pygments_lexer": "ipython3",
   "version": "3.8.0"
  }
 },
 "nbformat": 4,
 "nbformat_minor": 5
}
