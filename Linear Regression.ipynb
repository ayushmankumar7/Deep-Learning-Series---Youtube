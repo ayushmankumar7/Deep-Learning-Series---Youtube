{
 "cells": [
  {
   "cell_type": "code",
   "execution_count": 152,
   "id": "fe3b569d",
   "metadata": {},
   "outputs": [],
   "source": [
    "import torch \n",
    "import torch.nn as  nn \n",
    "import torch.optim as optim \n",
    "\n",
    "import numpy as np\n",
    "import matplotlib.pyplot as plt"
   ]
  },
  {
   "cell_type": "code",
   "execution_count": 153,
   "id": "75fc8505",
   "metadata": {},
   "outputs": [
    {
     "name": "stdout",
     "output_type": "stream",
     "text": [
      "torch.Size([50, 1]) torch.Size([50, 1])\n"
     ]
    }
   ],
   "source": [
    "x = torch.unsqueeze(torch.linspace(-1, 1, 50), dim=1)\n",
    "y = x + 0.9 * torch.rand(x.size())\n",
    "print(x.shape, y.shape)"
   ]
  },
  {
   "cell_type": "code",
   "execution_count": 154,
   "id": "bf1ac65a",
   "metadata": {},
   "outputs": [
    {
     "data": {
      "text/plain": [
       "<matplotlib.collections.PathCollection at 0x224ab5fd670>"
      ]
     },
     "execution_count": 154,
     "metadata": {},
     "output_type": "execute_result"
    },
    {
     "data": {
      "image/png": "[encoded data removed]",
      "text/plain": [
       "<Figure size 432x288 with 1 Axes>"
      ]
     },
     "metadata": {
      "needs_background": "light"
     },
     "output_type": "display_data"
    }
   ],
   "source": [
    "plt.scatter(x, y)"
   ]
  },
  {
   "cell_type": "code",
   "execution_count": 155,
   "id": "67187362",
   "metadata": {},
   "outputs": [],
   "source": [
    "class Model(nn.Module):\n",
    "    def __init__(self):\n",
    "        super(Model, self).__init__()\n",
    "        self.layer1 = nn.Linear(1, 1)\n",
    "        self.ac = nn.Tanh()\n",
    "    def forward(self, x):\n",
    "        return self.ac(self.layer1(x))"
   ]
  },
  {
   "cell_type": "markdown",
   "id": "a87d8a2c",
   "metadata": {},
   "source": [
    "## Sending Data to GPU"
   ]
  },
  {
   "cell_type": "code",
   "execution_count": 156,
   "id": "0c5a2b6c",
   "metadata": {},
   "outputs": [],
   "source": [
    "x, y = x.to(\"cuda\"), y.to(\"cuda\")"
   ]
  },
  {
   "cell_type": "markdown",
   "id": "8b42731b",
   "metadata": {},
   "source": [
    "## Initializing Model and sending to GPU "
   ]
  },
  {
   "cell_type": "code",
   "execution_count": 157,
   "id": "615f544c",
   "metadata": {},
   "outputs": [],
   "source": [
    "model = Model().to(\"cuda\")"
   ]
  },
  {
   "cell_type": "code",
   "execution_count": 158,
   "id": "d459342c",
   "metadata": {},
   "outputs": [],
   "source": [
    "loss_fn = nn.MSELoss()\n",
    "optimizer = optim.SGD(model.parameters(), lr = 1e-2)\n",
    "\n",
    "losses = []"
   ]
  },
  {
   "cell_type": "code",
   "execution_count": 163,
   "id": "829253d7",
   "metadata": {},
   "outputs": [
    {
     "name": "stdout",
     "output_type": "stream",
     "text": [
      "Epoch: 999, loss: 0.09380467236042023\r"
     ]
    },
    {
     "data": {
      "image/png": "[encoded data removed]",
      "text/plain": [
       "<Figure size 432x288 with 1 Axes>"
      ]
     },
     "metadata": {
      "needs_background": "light"
     },
     "output_type": "display_data"
    },
    {
     "data": {
      "image/png": "[encoded data removed]",
      "text/plain": [
       "<Figure size 432x288 with 1 Axes>"
      ]
     },
     "metadata": {
      "needs_background": "light"
     },
     "output_type": "display_data"
    }
   ],
   "source": [
    "for epoch in range(1000):\n",
    "    y_hat = model(x)\n",
    "    loss = loss_fn(y_hat, y)\n",
    "    print(f\"Epoch: {epoch}, loss: {loss.item()}\", end=\"\\r\")\n",
    "    losses.append(loss.item())\n",
    "    \n",
    "    optimizer.zero_grad()\n",
    "    loss.backward()\n",
    "    optimizer.step()\n",
    "    \n",
    "# Plot Loss plot\n",
    "plt.plot(losses)\n",
    "plt.show()\n",
    "\n",
    "# See Results\n",
    "plt.scatter(x.data.cpu().numpy(), y.data.cpu().numpy())\n",
    "plt.plot(x.data.cpu().numpy(), y_hat.data.cpu().numpy(), 'r-', lw=5)\n",
    "plt.show()"
   ]
  },
  {
   "cell_type": "code",
   "execution_count": null,
   "id": "dd8efa27",
   "metadata": {},
   "outputs": [],
   "source": [
    "\n"
   ]
  },
  {
   "cell_type": "code",
   "execution_count": null,
   "id": "8a2a1905",
   "metadata": {},
   "outputs": [],
   "source": [
    "\n"
   ]
  },
  {
   "cell_type": "code",
   "execution_count": null,
   "id": "502939ea",
   "metadata": {},
   "outputs": [],
   "source": []
  },
  {
   "cell_type": "code",
   "execution_count": null,
   "id": "30d4d369",
   "metadata": {},
   "outputs": [],
   "source": []
  }
 ],
 "metadata": {
  "kernelspec": {
   "display_name": "Python 3 (ipykernel)",
   "language": "python",
   "name": "python3"
  },
  "language_info": {
   "codemirror_mode": {
    "name": "ipython",
    "version": 3
   },
   "file_extension": ".py",
   "mimetype": "text/x-python",
   "name": "python",
   "nbconvert_exporter": "python",
   "pygments_lexer": "ipython3",
   "version": "3.8.0"
  }
 },
 "nbformat": 4,
 "nbformat_minor": 5
}
