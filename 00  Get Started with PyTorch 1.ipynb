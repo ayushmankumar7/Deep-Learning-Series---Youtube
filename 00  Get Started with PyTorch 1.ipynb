{
 "cells": [
  {
   "cell_type": "markdown",
   "id": "6ccd0035",
   "metadata": {},
   "source": [
    "# Get started with PyTorch \n",
    "\n",
    "## To Use PyTorch, use `import torch`"
   ]
  },
  {
   "cell_type": "code",
   "execution_count": 1,
   "id": "7528dfe0",
   "metadata": {},
   "outputs": [],
   "source": [
    "import torch "
   ]
  },
  {
   "cell_type": "markdown",
   "id": "fcc88506",
   "metadata": {},
   "source": [
    "## In `torch`, we are mostly going to use these modules: \n",
    "    1. torch.nn \n",
    "    2. torch.optim "
   ]
  },
  {
   "cell_type": "code",
   "execution_count": 2,
   "id": "33d2a423",
   "metadata": {},
   "outputs": [],
   "source": [
    "# In the beginning, we are going to import these modules like \n",
    "\n",
    "import torch.nn as nn \n",
    "import torch.optim as optim"
   ]
  },
  {
   "cell_type": "markdown",
   "id": "8779f138",
   "metadata": {},
   "source": [
    "### torch.nn        :- Used mostly for Building the Neural Network model\n",
    "### torch.optim  :- Used to initializing the Optimizer"
   ]
  },
  {
   "cell_type": "markdown",
   "id": "14829db6",
   "metadata": {},
   "source": [
    "## Now let's look at torch.Tensors\n",
    "\n",
    "torch.Tensor is a `multi-dimensional` matrix containing `single data type` elemets \n",
    "#### Default tensor type : `torch.FloatTensor`"
   ]
  },
  {
   "cell_type": "code",
   "execution_count": 7,
   "id": "849c6d17",
   "metadata": {},
   "outputs": [
    {
     "name": "stdout",
     "output_type": "stream",
     "text": [
      "x:  tensor([2., 3., 4.])\n",
      "torch.Size([3])\n"
     ]
    }
   ],
   "source": [
    "x = torch.tensor([2.0, 3.0, 4.0])\n",
    "\n",
    "print(\"x: \", x)\n",
    "print(x.shape)"
   ]
  },
  {
   "cell_type": "code",
   "execution_count": 11,
   "id": "9816afac",
   "metadata": {},
   "outputs": [
    {
     "name": "stdout",
     "output_type": "stream",
     "text": [
      "x:  tensor([[1., 2., 3.],\n",
      "        [4., 5., 6.]])\n",
      "torch.Size([2, 3])\n"
     ]
    }
   ],
   "source": [
    "x = torch.tensor([[1.0, 2.0, 3.0], [4.0, 5.0, 6.0]])\n",
    "\n",
    "print(\"x: \", x)\n",
    "print(x.shape)"
   ]
  },
  {
   "cell_type": "code",
   "execution_count": 17,
   "id": "aebc59f1",
   "metadata": {},
   "outputs": [
    {
     "name": "stdout",
     "output_type": "stream",
     "text": [
      "tensor(4.5000)\n",
      "4.5\n"
     ]
    }
   ],
   "source": [
    "# We can also have Scalars in torch.Tensor\n",
    "\n",
    "s = torch.tensor(4.5)\n",
    "print(s)\n",
    "\n",
    "# To get only the value of the Scalar \n",
    "print(s.item())"
   ]
  },
  {
   "cell_type": "markdown",
   "id": "646c3522",
   "metadata": {},
   "source": [
    "## Differentiation using Torch \n",
    "\n",
    "### To enable automatic differentiation, we can use a parameter `requires_grad = True` \n",
    "\n",
    "### In the example below, our function is $x^2$\n",
    "\n",
    "### We differentiate it to obtain $2x$"
   ]
  },
  {
   "cell_type": "code",
   "execution_count": 27,
   "id": "d6d003a1",
   "metadata": {},
   "outputs": [
    {
     "name": "stdout",
     "output_type": "stream",
     "text": [
      "TENSOR:                 tensor([4., 5.], requires_grad=True)\n",
      "OUT:                    tensor(41., grad_fn=<SumBackward0>)\n",
      "After Differentiation:  tensor([ 8., 10.])\n"
     ]
    }
   ],
   "source": [
    "x = torch.tensor([4.0, 5.0], requires_grad = True)\n",
    "print(\"TENSOR:                \", x)\n",
    "out = x.pow(2).sum()\n",
    "print(\"OUT:                   \", out)\n",
    "out.backward()\n",
    "print(\"After Differentiation: \", x.grad)  # Calculated Gradients"
   ]
  },
  {
   "cell_type": "markdown",
   "id": "a7d7fd64",
   "metadata": {},
   "source": [
    "# Sending our Data to GPU \n",
    "\n",
    "## In PyTorch, we can send our Data to GPU. \n",
    "    **Make sure your GPU is CUDA Enabled**"
   ]
  },
  {
   "cell_type": "code",
   "execution_count": 30,
   "id": "1ab99950",
   "metadata": {},
   "outputs": [
    {
     "name": "stdout",
     "output_type": "stream",
     "text": [
      "tensor([4., 5.], requires_grad=True)\n",
      "tensor([4., 5.], device='cuda:0', grad_fn=<ToCopyBackward0>)\n"
     ]
    }
   ],
   "source": [
    "print(x)\n",
    "\n",
    "# Send this tensor to GPU \n",
    "\n",
    "x = x.cuda()\n",
    "\n",
    "print(x)"
   ]
  },
  {
   "cell_type": "markdown",
   "id": "f3a8ce51",
   "metadata": {},
   "source": [
    "## We can send our Tensors to CUDA in multiple ways\n",
    "\n",
    "1. x.cuda() \n",
    "2. x.to(torch.device(\"cuda:0\"))\n",
    "3. tensor([1., 2., 3.], device = torch.device(\"cuda:0\"))\n",
    "\n",
    "## Now we can bring back our Tensors from CUDA to CPU "
   ]
  },
  {
   "cell_type": "code",
   "execution_count": 36,
   "id": "e1eff742",
   "metadata": {},
   "outputs": [
    {
     "name": "stdout",
     "output_type": "stream",
     "text": [
      "To CPU:                        :  tensor([4., 5.], grad_fn=<ToCopyBackward0>)\n",
      "To CPU and Remove required_grad:  tensor([4., 5.])\n",
      "Also convert to Numpy array    :  [4. 5.]\n"
     ]
    }
   ],
   "source": [
    "# Bring Tensor to CPU \n",
    "print(\"To CPU:                        : \", x.cpu())\n",
    "print(\"To CPU and Remove required_grad: \", x.cpu().detach())\n",
    "print(\"Also convert to Numpy array    : \", x.cpu().detach().numpy())"
   ]
  },
  {
   "cell_type": "markdown",
   "id": "14d41b10",
   "metadata": {},
   "source": [
    "## Convert Numpy Array to Torch Tensor"
   ]
  },
  {
   "cell_type": "code",
   "execution_count": 43,
   "id": "f194eb17",
   "metadata": {},
   "outputs": [
    {
     "data": {
      "text/plain": [
       "array([[1., 1.],\n",
       "       [1., 1.]])"
      ]
     },
     "execution_count": 43,
     "metadata": {},
     "output_type": "execute_result"
    }
   ],
   "source": [
    "import numpy as np \n",
    "\n",
    "a = np.ones((2, 2))\n",
    "a"
   ]
  },
  {
   "cell_type": "code",
   "execution_count": 44,
   "id": "1d06c427",
   "metadata": {},
   "outputs": [
    {
     "data": {
      "text/plain": [
       "tensor([[1., 1.],\n",
       "        [1., 1.]], dtype=torch.float64)"
      ]
     },
     "execution_count": 44,
     "metadata": {},
     "output_type": "execute_result"
    }
   ],
   "source": [
    "t = torch.tensor(a)\n",
    "t"
   ]
  },
  {
   "cell_type": "markdown",
   "id": "22d7ec1b",
   "metadata": {},
   "source": [
    "## Change shape of a Tensor\n",
    "### We use `tensor.view(*shape)` to change the shape "
   ]
  },
  {
   "cell_type": "code",
   "execution_count": 49,
   "id": "d422bc3b",
   "metadata": {},
   "outputs": [
    {
     "name": "stdout",
     "output_type": "stream",
     "text": [
      "tensor([[1., 1.],\n",
      "        [1., 1.]], dtype=torch.float64)\n",
      "tensor([[1., 1., 1., 1.]], dtype=torch.float64)\n",
      "tensor([[1.],\n",
      "        [1.],\n",
      "        [1.],\n",
      "        [1.]], dtype=torch.float64)\n",
      "tensor([1., 1., 1., 1.], dtype=torch.float64)\n"
     ]
    }
   ],
   "source": [
    "print(t)\n",
    "print(t.view((1, 4)))\n",
    "print(t.view((4, 1)))\n",
    "print(t.view(-1))"
   ]
  },
  {
   "cell_type": "markdown",
   "id": "f749a041",
   "metadata": {},
   "source": [
    "## There are many more Tensor Ops avaliable \n",
    "\n",
    "Check: https://pytorch.org/docs/stable/tensors.html \n",
    "\n",
    "### Remember : Most ops are similar to numpy and other scientific libraries "
   ]
  },
  {
   "cell_type": "code",
   "execution_count": null,
   "id": "16897bb3",
   "metadata": {},
   "outputs": [],
   "source": []
  },
  {
   "cell_type": "code",
   "execution_count": null,
   "id": "4483dd11",
   "metadata": {},
   "outputs": [],
   "source": []
  }
 ],
 "metadata": {
  "kernelspec": {
   "display_name": "Python 3 (ipykernel)",
   "language": "python",
   "name": "python3"
  },
  "language_info": {
   "codemirror_mode": {
    "name": "ipython",
    "version": 3
   },
   "file_extension": ".py",
   "mimetype": "text/x-python",
   "name": "python",
   "nbconvert_exporter": "python",
   "pygments_lexer": "ipython3",
   "version": "3.8.0"
  }
 },
 "nbformat": 4,
 "nbformat_minor": 5
}
